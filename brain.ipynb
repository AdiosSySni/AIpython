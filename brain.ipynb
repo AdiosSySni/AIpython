{
 "cells": [
  {
   "cell_type": "code",
   "execution_count": 116,
   "metadata": {},
   "outputs": [],
   "source": [
    "import os\n",
    "import csv\n",
    "import tensorflow as tf\n",
    "from tensorflow.keras.preprocessing.image import ImageDataGenerator\n",
    "from tensorflow.keras.applications.efficientnet import EfficientNetB0, preprocess_input\n",
    "import numpy as np\n",
    "import matplotlib.pyplot as plt\n",
    "%matplotlib inline"
   ]
  },
  {
   "cell_type": "code",
   "execution_count": 117,
   "metadata": {},
   "outputs": [],
   "source": [
    "# Параметры для обработки изображений\n",
    "img_height = 512\n",
    "img_width = 512\n",
    "batch_size = 64"
   ]
  },
  {
   "cell_type": "code",
   "execution_count": 118,
   "metadata": {},
   "outputs": [
    {
     "name": "stdout",
     "output_type": "stream",
     "text": [
      "['Aircraft', 'Airplane', 'Willow']\n"
     ]
    }
   ],
   "source": [
    "dataset_dir = './datasetTrain'\n",
    "classes = os.listdir(dataset_dir)\n",
    "\n",
    "print(classes)"
   ]
  },
  {
   "cell_type": "code",
   "execution_count": 119,
   "metadata": {},
   "outputs": [
    {
     "name": "stdout",
     "output_type": "stream",
     "text": [
      "Found 593 images belonging to 3 classes.\n"
     ]
    },
    {
     "name": "stdout",
     "output_type": "stream",
     "text": [
      "Found 593 images belonging to 3 classes.\n",
      "{'Aircraft': 0, 'Airplane': 1, 'Willow': 2}\n"
     ]
    }
   ],
   "source": [
    "train_datagen = ImageDataGenerator(\n",
    "    preprocessing_function=preprocess_input,\n",
    "    rotation_range=20,\n",
    "    width_shift_range=0.2,\n",
    "    height_shift_range=0.2,\n",
    "    shear_range=0.2,\n",
    "    zoom_range=0.2,\n",
    "    horizontal_flip=True,\n",
    "    fill_mode='nearest'\n",
    ")\n",
    "\n",
    "test_datagen = ImageDataGenerator(preprocessing_function=preprocess_input)\n",
    "\n",
    "train_generator = train_datagen.flow_from_directory(\n",
    "    './datasetTrain',\n",
    "    target_size=(img_height, img_width),\n",
    "    batch_size=batch_size,\n",
    "    class_mode='categorical'\n",
    ")\n",
    "\n",
    "validation_generator = test_datagen.flow_from_directory(\n",
    "    './datasetValid/',\n",
    "    target_size=(img_height, img_width),\n",
    "    batch_size=batch_size,\n",
    "    class_mode='categorical'\n",
    ")\n",
    "\n",
    "\n",
    "print(train_generator.class_indices)\n",
    "class_count = train_generator.class_indices"
   ]
  },
  {
   "cell_type": "code",
   "execution_count": 120,
   "metadata": {},
   "outputs": [],
   "source": [
    "base_model = EfficientNetB0(weights='imagenet', include_top=False, input_shape=(img_height, img_width, 3))\n",
    "# EfficientNetB3 - модель, которая позволяет кушать больше изображений\n",
    "# Метрика %Map10\n",
    "base_model.trainable = False\n",
    "\n",
    "inputs = tf.keras.layers.Input(shape=(512, 512, 3))\n",
    "\n",
    "x = base_model(inputs, training=False)\n",
    "# Преобразование каритнок из датасета в набор векторов, чтобы хранить их в моделе, в дальнейшем их необходимо сравнивать\n",
    "x = tf.keras.layers.GlobalAveragePooling2D()(x)\n",
    "x = tf.keras.layers.Dropout(0.2)(x)\n",
    "x = tf.keras.layers.Dense(64, activation=\"softmax\", name=\"last_dense\")(x)\n",
    "outputs = tf.keras.layers.Dense(3, activation='softmax')(x)\n",
    "# На выходе необходимо получать не именя классов, а именно вектора изображений, которые и будут сравниваться\n",
    "model = tf.keras.models.Model(inputs, outputs)\n",
    "\n",
    "model.compile(optimizer='adam', loss='categorical_crossentropy', metrics=['Precision'])"
   ]
  },
  {
   "cell_type": "code",
   "execution_count": 121,
   "metadata": {},
   "outputs": [],
   "source": [
    "if os.path.exists('newModel.keras'):\n",
    "    model = tf.keras.models.load_model('newModel.keras')\n",
    "else:\n",
    "    model.fit(\n",
    "        train_generator,\n",
    "        steps_per_epoch=len(train_generator),\n",
    "        epochs=10,\n",
    "        validation_data=validation_generator,\n",
    "        validation_steps=len(validation_generator)\n",
    "    )\n",
    "\n",
    "model.save('newModel.keras')"
   ]
  },
  {
   "cell_type": "code",
   "execution_count": 122,
   "metadata": {},
   "outputs": [
    {
     "name": "stdout",
     "output_type": "stream",
     "text": [
      "10/10 - 30s - 3s/step - Precision: 0.0000e+00 - loss: 0.8913\n",
      "Validation accuracy: 0.0\n"
     ]
    }
   ],
   "source": [
    "model_load = tf.keras.models.load_model('newModel.keras')\n",
    "\n",
    "loss, acc = model.evaluate(validation_generator, verbose=2)\n",
    "print(\"Validation accuracy:\", acc)"
   ]
  },
  {
   "cell_type": "code",
   "execution_count": 123,
   "metadata": {},
   "outputs": [],
   "source": [
    "def load_and_preprocess_image(image_path):\n",
    "    img = tf.keras.preprocessing.image.load_img(image_path, target_size=(512, 512))\n",
    "    img_array = tf.keras.preprocessing.image.img_to_array(img)\n",
    "    img_batch = np.expand_dims(img_array, axis=0)\n",
    "    return preprocess_input(img_batch)\n",
    "\n",
    "# Загружаем и подготавливаем изображение\n",
    "new_image = load_and_preprocess_image('plane.jpg')"
   ]
  },
  {
   "cell_type": "code",
   "execution_count": 124,
   "metadata": {},
   "outputs": [
    {
     "name": "stdout",
     "output_type": "stream",
     "text": [
      "WARNING:tensorflow:5 out of the last 5 calls to <function TensorFlowTrainer.make_predict_function.<locals>.one_step_on_data_distributed at 0x0000024A133E56C0> triggered tf.function retracing. Tracing is expensive and the excessive number of tracings could be due to (1) creating @tf.function repeatedly in a loop, (2) passing tensors with different shapes, (3) passing Python objects instead of tensors. For (1), please define your @tf.function outside of the loop. For (2), @tf.function has reduce_retracing=True option that can avoid unnecessary retracing. For (3), please refer to https://www.tensorflow.org/guide/function#controlling_retracing and https://www.tensorflow.org/api_docs/python/tf/function for  more details.\n",
      "\u001b[1m1/1\u001b[0m \u001b[32m━━━━━━━━━━━━━━━━━━━━\u001b[0m\u001b[37m\u001b[0m \u001b[1m1s\u001b[0m 1s/step\n",
      "Predicted class: Airplane\n"
     ]
    }
   ],
   "source": [
    "# Выполняем предсказание\n",
    "preds = model.predict(new_image)\n",
    "predicted_class_index = np.argmax(preds)\n",
    "\n",
    "# Получаем имя класса на основе индекса\n",
    "predicted_class_name = classes[predicted_class_index]\n",
    "\n",
    "print(\"Predicted class:\", predicted_class_name)"
   ]
  },
  {
   "cell_type": "code",
   "execution_count": 125,
   "metadata": {},
   "outputs": [],
   "source": [
    "def find_similar_images(class_index, n=10):\n",
    "    similar_images = []\n",
    "    # Заменить class_index на class_name\n",
    "    for root, dirs, files in os.walk(f'datasetValid/{class_index}'):\n",
    "        for file in files[:n]:\n",
    "            image_path = os.path.join(root, file)\n",
    "            similar_images.append(image_path)\n",
    "            print(image_path)\n",
    "\n",
    "    print(similar_images)        \n",
    "    return similar_images\n"
   ]
  },
  {
   "cell_type": "code",
   "execution_count": 126,
   "metadata": {},
   "outputs": [
    {
     "name": "stdout",
     "output_type": "stream",
     "text": [
      "[]\n",
      "[]\n",
      "[]\n",
      "Файл submission.csv успешно создан.\n"
     ]
    }
   ],
   "source": [
    "# CSV файл\n",
    "try:\n",
    "    # Проверяем существование файла и удаляем его, если он существует\n",
    "    if os.path.exists('./submission.csv'):\n",
    "        os.remove('./submission.csv')\n",
    "\n",
    "    with open('./submission.csv', mode='w', newline='', encoding='utf-8') as submission_file:\n",
    "        writer = csv.writer(submission_file, delimiter=',', quoting=csv.QUOTE_ALL)\n",
    "        writer.writerow(['image', 'recs'])\n",
    "\n",
    "        for filename in os.listdir('./datasetValid/'):\n",
    "            try:\n",
    "                class_index = train_generator.class_indices.get(filename.split('.')[0].split('_')[-1])\n",
    "                recs = find_similar_images(class_index, n=10)\n",
    "                row = [filename, ','.join(recs)]\n",
    "                writer.writerow(row)\n",
    "            except Exception as e:\n",
    "                print(f'Ошибка при обработке файла {filename}: {e}')\n",
    "\n",
    "    print(\"Файл submission.csv успешно создан.\")\n",
    "except Exception as e:\n",
    "    print(f\"Произошла ошибка при создании файла submission.csv: {e}\")"
   ]
  },
  {
   "cell_type": "code",
   "execution_count": 127,
   "metadata": {},
   "outputs": [
    {
     "name": "stdout",
     "output_type": "stream",
     "text": [
      "datasetValid/Airplane\\0031ca934bc78a03.jpg\n",
      "datasetValid/Airplane\\003b9f6210163df0.jpg\n",
      "datasetValid/Airplane\\004011278f6b29cd.jpg\n",
      "datasetValid/Airplane\\0083c92e3866c078.jpg\n",
      "datasetValid/Airplane\\00dd69581119d1f2.jpg\n",
      "datasetValid/Airplane\\00df7c8b7a9f7e20.jpg\n",
      "datasetValid/Airplane\\00e0241176635b5b.jpg\n",
      "datasetValid/Airplane\\0113dbe3b7ae4b5f.jpg\n",
      "datasetValid/Airplane\\0140e2c5f85f17ff.jpg\n",
      "datasetValid/Airplane\\016ee5993838b383.jpg\n",
      "['datasetValid/Airplane\\\\0031ca934bc78a03.jpg', 'datasetValid/Airplane\\\\003b9f6210163df0.jpg', 'datasetValid/Airplane\\\\004011278f6b29cd.jpg', 'datasetValid/Airplane\\\\0083c92e3866c078.jpg', 'datasetValid/Airplane\\\\00dd69581119d1f2.jpg', 'datasetValid/Airplane\\\\00df7c8b7a9f7e20.jpg', 'datasetValid/Airplane\\\\00e0241176635b5b.jpg', 'datasetValid/Airplane\\\\0113dbe3b7ae4b5f.jpg', 'datasetValid/Airplane\\\\0140e2c5f85f17ff.jpg', 'datasetValid/Airplane\\\\016ee5993838b383.jpg']\n"
     ]
    }
   ],
   "source": [
    "similar_images = find_similar_images(predicted_class_name)"
   ]
  },
  {
   "cell_type": "code",
   "execution_count": null,
   "metadata": {},
   "outputs": [],
   "source": []
  }
 ],
 "metadata": {
  "kernelspec": {
   "display_name": "Python 3",
   "language": "python",
   "name": "python3"
  },
  "language_info": {
   "codemirror_mode": {
    "name": "ipython",
    "version": 3
   },
   "file_extension": ".py",
   "mimetype": "text/x-python",
   "name": "python",
   "nbconvert_exporter": "python",
   "pygments_lexer": "ipython3",
   "version": "3.12.6"
  }
 },
 "nbformat": 4,
 "nbformat_minor": 2
}

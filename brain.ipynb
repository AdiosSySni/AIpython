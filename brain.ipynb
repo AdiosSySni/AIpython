{
 "cells": [
  {
   "cell_type": "code",
   "execution_count": 13,
   "metadata": {},
   "outputs": [
    {
     "ename": "ImportError",
     "evalue": "cannot import name 'MeanAveragePrecision' from 'tensorflow.keras.metrics' (C:\\Users\\user\\AppData\\Local\\Packages\\PythonSoftwareFoundation.Python.3.12_qbz5n2kfra8p0\\LocalCache\\local-packages\\Python312\\site-packages\\keras\\_tf_keras\\keras\\metrics\\__init__.py)",
     "output_type": "error",
     "traceback": [
      "\u001b[1;31m---------------------------------------------------------------------------\u001b[0m",
      "\u001b[1;31mImportError\u001b[0m                               Traceback (most recent call last)",
      "Cell \u001b[1;32mIn[13], line 5\u001b[0m\n\u001b[0;32m      3\u001b[0m \u001b[38;5;28;01mfrom\u001b[39;00m \u001b[38;5;21;01mtensorflow\u001b[39;00m\u001b[38;5;21;01m.\u001b[39;00m\u001b[38;5;21;01mkeras\u001b[39;00m\u001b[38;5;21;01m.\u001b[39;00m\u001b[38;5;21;01mpreprocessing\u001b[39;00m\u001b[38;5;21;01m.\u001b[39;00m\u001b[38;5;21;01mimage\u001b[39;00m \u001b[38;5;28;01mimport\u001b[39;00m ImageDataGenerator\n\u001b[0;32m      4\u001b[0m \u001b[38;5;28;01mfrom\u001b[39;00m \u001b[38;5;21;01mtensorflow\u001b[39;00m\u001b[38;5;21;01m.\u001b[39;00m\u001b[38;5;21;01mkeras\u001b[39;00m\u001b[38;5;21;01m.\u001b[39;00m\u001b[38;5;21;01mapplications\u001b[39;00m\u001b[38;5;21;01m.\u001b[39;00m\u001b[38;5;21;01mefficientnet\u001b[39;00m \u001b[38;5;28;01mimport\u001b[39;00m EfficientNetB0, preprocess_input\n\u001b[1;32m----> 5\u001b[0m \u001b[38;5;28;01mfrom\u001b[39;00m \u001b[38;5;21;01mtensorflow\u001b[39;00m\u001b[38;5;21;01m.\u001b[39;00m\u001b[38;5;21;01mkeras\u001b[39;00m\u001b[38;5;21;01m.\u001b[39;00m\u001b[38;5;21;01mmetrics\u001b[39;00m \u001b[38;5;28;01mimport\u001b[39;00m MeanAveragePrecision\n\u001b[0;32m      6\u001b[0m \u001b[38;5;28;01mimport\u001b[39;00m \u001b[38;5;21;01mnumpy\u001b[39;00m \u001b[38;5;28;01mas\u001b[39;00m \u001b[38;5;21;01mnp\u001b[39;00m\n\u001b[0;32m      7\u001b[0m \u001b[38;5;28;01mimport\u001b[39;00m \u001b[38;5;21;01mmatplotlib\u001b[39;00m\u001b[38;5;21;01m.\u001b[39;00m\u001b[38;5;21;01mpyplot\u001b[39;00m \u001b[38;5;28;01mas\u001b[39;00m \u001b[38;5;21;01mplt\u001b[39;00m\n",
      "\u001b[1;31mImportError\u001b[0m: cannot import name 'MeanAveragePrecision' from 'tensorflow.keras.metrics' (C:\\Users\\user\\AppData\\Local\\Packages\\PythonSoftwareFoundation.Python.3.12_qbz5n2kfra8p0\\LocalCache\\local-packages\\Python312\\site-packages\\keras\\_tf_keras\\keras\\metrics\\__init__.py)"
     ]
    }
   ],
   "source": [
    "import os\n",
    "import tensorflow as tf\n",
    "from tensorflow.keras.preprocessing.image import ImageDataGenerator\n",
    "from tensorflow.keras.applications.efficientnet import EfficientNetB0, preprocess_input\n",
    "from tensorflow.keras.metrics import MeanAveragePrecision\n",
    "import numpy as np\n",
    "import matplotlib.pyplot as plt\n",
    "%matplotlib inline"
   ]
  },
  {
   "cell_type": "code",
   "execution_count": null,
   "metadata": {},
   "outputs": [],
   "source": [
    "# Параметры для обработки изображений\n",
    "img_height = 512\n",
    "img_width = 512\n",
    "batch_size = 64"
   ]
  },
  {
   "cell_type": "code",
   "execution_count": null,
   "metadata": {},
   "outputs": [
    {
     "name": "stdout",
     "output_type": "stream",
     "text": [
      "['Plane', 'Willow']\n"
     ]
    }
   ],
   "source": [
    "dataset_dir = './dataset'\n",
    "classes = os.listdir(dataset_dir)\n",
    "\n",
    "print(classes)"
   ]
  },
  {
   "cell_type": "code",
   "execution_count": null,
   "metadata": {},
   "outputs": [
    {
     "name": "stdout",
     "output_type": "stream",
     "text": [
      "Found 400 images belonging to 2 classes.\n",
      "Found 411 images belonging to 2 classes.\n",
      "{'Plane': 0, 'Willow': 1}\n"
     ]
    }
   ],
   "source": [
    "train_datagen = ImageDataGenerator(\n",
    "    preprocessing_function=preprocess_input,\n",
    "    rotation_range=20,\n",
    "    width_shift_range=0.2,\n",
    "    height_shift_range=0.2,\n",
    "    shear_range=0.2,\n",
    "    zoom_range=0.2,\n",
    "    horizontal_flip=True,\n",
    "    fill_mode='nearest'\n",
    ")\n",
    "\n",
    "test_datagen = ImageDataGenerator(preprocessing_function=preprocess_input)\n",
    "\n",
    "train_generator = train_datagen.flow_from_directory(\n",
    "    './dataset',\n",
    "    target_size=(img_height, img_width),\n",
    "    batch_size=batch_size,\n",
    "    class_mode='categorical'\n",
    ")\n",
    "\n",
    "validation_generator = test_datagen.flow_from_directory(\n",
    "    './validDataset/',\n",
    "    target_size=(img_height, img_width),\n",
    "    batch_size=batch_size,\n",
    "    class_mode='categorical'\n",
    ")\n",
    "\n",
    "\n",
    "print(train_generator.class_indices)"
   ]
  },
  {
   "cell_type": "code",
   "execution_count": null,
   "metadata": {},
   "outputs": [],
   "source": [
    "base_model = EfficientNetB0(weights='imagenet', include_top=False, input_shape=(img_height, img_width, 3))\n",
    "# EfficientNetB3 - модель, которая позволяет кушать больше изображений\n",
    "# Метрика %Map10\n",
    "base_model.trainable = False\n",
    "\n",
    "inputs = tf.keras.layers.Input(shape=(512, 512, 3))\n",
    "\n",
    "x = base_model(inputs, training=False)\n",
    "# Преобразование каритнок из датасета в набор векторов, чтобы хранить их в моделе, в дальнейшем их необходимо сравнивать\n",
    "x = tf.keras.layers.GlobalAveragePooling2D()(x)\n",
    "x = tf.keras.layers.Dropout(0.2)(x)\n",
    "x = tf.keras.layers.Dense(64, activation=\"softmax\", name=\"last_dense\")(x)\n",
    "outputs = tf.keras.layers.Dense(2, activation='softmax')(x)\n",
    "# На выходе необходимо получать не именя классов, а именно вектора изображений, которые и будут сравниваться\n",
    "model = tf.keras.models.Model(inputs, outputs)\n",
    "\n",
    "map10 = MeanAveragePrecision(num_classes=2, average='macro', top_k=10)\n",
    "model.compile(optimizer='adam', loss='categorical_crossentropy', metrics=[map10])"
   ]
  },
  {
   "cell_type": "code",
   "execution_count": null,
   "metadata": {},
   "outputs": [],
   "source": [
    "if os.path.exists('newModel.keras'):\n",
    "    model = tf.keras.models.load_model('newModel.keras')\n",
    "else:\n",
    "    model.fit(\n",
    "        train_generator,\n",
    "        steps_per_epoch=len(train_generator),\n",
    "        epochs=10,\n",
    "        validation_data=validation_generator,\n",
    "        validation_steps=len(validation_generator)\n",
    "    )\n",
    "\n",
    "model.save('newModel.keras')"
   ]
  },
  {
   "cell_type": "code",
   "execution_count": null,
   "metadata": {},
   "outputs": [
    {
     "name": "stderr",
     "output_type": "stream",
     "text": [
      "C:\\Users\\user\\AppData\\Local\\Packages\\PythonSoftwareFoundation.Python.3.12_qbz5n2kfra8p0\\LocalCache\\local-packages\\Python312\\site-packages\\keras\\src\\trainers\\data_adapters\\py_dataset_adapter.py:121: UserWarning: Your `PyDataset` class should call `super().__init__(**kwargs)` in its constructor. `**kwargs` can include `workers`, `use_multiprocessing`, `max_queue_size`. Do not pass these arguments to `fit()`, as they will be ignored.\n",
      "  self._warn_if_super_not_called()\n"
     ]
    },
    {
     "name": "stdout",
     "output_type": "stream",
     "text": [
      "7/7 - 31s - 4s/step - Precision: 0.9538 - loss: 0.5165\n",
      "Validation accuracy: 0.9537712931632996\n"
     ]
    }
   ],
   "source": [
    "model_load = tf.keras.models.load_model('newModel.keras')\n",
    "\n",
    "loss, acc = model.evaluate(validation_generator, verbose=2)\n",
    "print(\"Validation accuracy:\", acc)"
   ]
  },
  {
   "cell_type": "code",
   "execution_count": null,
   "metadata": {},
   "outputs": [],
   "source": [
    "def load_and_preprocess_image(image_path):\n",
    "    img = tf.keras.preprocessing.image.load_img(image_path, target_size=(512, 512))\n",
    "    img_array = tf.keras.preprocessing.image.img_to_array(img)\n",
    "    img_batch = np.expand_dims(img_array, axis=0)\n",
    "    return preprocess_input(img_batch)\n",
    "\n",
    "# Загружаем и подготавливаем изображение\n",
    "new_image = load_and_preprocess_image('boeing.jpg')"
   ]
  },
  {
   "cell_type": "code",
   "execution_count": null,
   "metadata": {},
   "outputs": [
    {
     "name": "stdout",
     "output_type": "stream",
     "text": [
      "\u001b[1m1/1\u001b[0m \u001b[32m━━━━━━━━━━━━━━━━━━━━\u001b[0m\u001b[37m\u001b[0m \u001b[1m1s\u001b[0m 1s/step\n",
      "Predicted class: Plane\n"
     ]
    }
   ],
   "source": [
    "# Выполняем предсказание\n",
    "preds = model.predict(new_image)\n",
    "predicted_class_index = np.argmax(preds)\n",
    "\n",
    "# Получаем имя класса на основе индекса\n",
    "predicted_class_name = classes[predicted_class_index]\n",
    "\n",
    "print(\"Predicted class:\", predicted_class_name)"
   ]
  },
  {
   "cell_type": "code",
   "execution_count": null,
   "metadata": {},
   "outputs": [],
   "source": [
    "def find_similar_images(class_index, n=10):\n",
    "    similar_images = []\n",
    "    # Заменить class_index на class_name\n",
    "    for root, dirs, files in os.walk(f'dataset/{class_index}'):\n",
    "        for file in files[:n]:\n",
    "            image_path = os.path.join(root, file)\n",
    "            similar_images.append(image_path)\n",
    "            print(image_path)\n",
    "\n",
    "    print(similar_images)        \n",
    "    return similar_images\n",
    "# CSV файл"
   ]
  },
  {
   "cell_type": "code",
   "execution_count": null,
   "metadata": {},
   "outputs": [
    {
     "name": "stdout",
     "output_type": "stream",
     "text": [
      "dataset/Plane\\00144844bdaf8351.jpg\n",
      "dataset/Plane\\006130a7fc2e99cc.jpg\n",
      "dataset/Plane\\014c0014125d4e83.jpg\n",
      "dataset/Plane\\01eabb949fec8850.jpg\n",
      "dataset/Plane\\01ff1d93e2883373.jpg\n",
      "dataset/Plane\\02356f8e29b267d0.jpg\n",
      "dataset/Plane\\0237665a2007ab89.jpg\n",
      "dataset/Plane\\029524bb3c0a5ac4.jpg\n",
      "dataset/Plane\\029691d37fbe20af.jpg\n",
      "dataset/Plane\\02b395ca0ae85a3d.jpg\n",
      "['dataset/Plane\\\\00144844bdaf8351.jpg', 'dataset/Plane\\\\006130a7fc2e99cc.jpg', 'dataset/Plane\\\\014c0014125d4e83.jpg', 'dataset/Plane\\\\01eabb949fec8850.jpg', 'dataset/Plane\\\\01ff1d93e2883373.jpg', 'dataset/Plane\\\\02356f8e29b267d0.jpg', 'dataset/Plane\\\\0237665a2007ab89.jpg', 'dataset/Plane\\\\029524bb3c0a5ac4.jpg', 'dataset/Plane\\\\029691d37fbe20af.jpg', 'dataset/Plane\\\\02b395ca0ae85a3d.jpg']\n"
     ]
    }
   ],
   "source": [
    "similar_images = find_similar_images(predicted_class_name)"
   ]
  },
  {
   "cell_type": "code",
   "execution_count": null,
   "metadata": {},
   "outputs": [],
   "source": []
  }
 ],
 "metadata": {
  "kernelspec": {
   "display_name": "Python 3",
   "language": "python",
   "name": "python3"
  },
  "language_info": {
   "codemirror_mode": {
    "name": "ipython",
    "version": 3
   },
   "file_extension": ".py",
   "mimetype": "text/x-python",
   "name": "python",
   "nbconvert_exporter": "python",
   "pygments_lexer": "ipython3",
   "version": "3.12.7"
  }
 },
 "nbformat": 4,
 "nbformat_minor": 2
}
